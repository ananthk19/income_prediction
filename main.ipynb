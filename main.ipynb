{
 "cells": [
  {
   "cell_type": "code",
   "execution_count": 1,
   "metadata": {},
   "outputs": [],
   "source": [
    "import pandas as pd "
   ]
  },
  {
   "cell_type": "code",
   "execution_count": 2,
   "metadata": {},
   "outputs": [
    {
     "data": {
      "text/html": [
       "<div>\n",
       "<style scoped>\n",
       "    .dataframe tbody tr th:only-of-type {\n",
       "        vertical-align: middle;\n",
       "    }\n",
       "\n",
       "    .dataframe tbody tr th {\n",
       "        vertical-align: top;\n",
       "    }\n",
       "\n",
       "    .dataframe thead th {\n",
       "        text-align: right;\n",
       "    }\n",
       "</style>\n",
       "<table border=\"1\" class=\"dataframe\">\n",
       "  <thead>\n",
       "    <tr style=\"text-align: right;\">\n",
       "      <th></th>\n",
       "      <th>income</th>\n",
       "      <th>age</th>\n",
       "      <th>workclass</th>\n",
       "      <th>education</th>\n",
       "      <th>marital-status</th>\n",
       "      <th>occupation</th>\n",
       "      <th>relationship</th>\n",
       "      <th>race</th>\n",
       "      <th>sex</th>\n",
       "      <th>hours-per-week</th>\n",
       "    </tr>\n",
       "  </thead>\n",
       "  <tbody>\n",
       "    <tr>\n",
       "      <th>0</th>\n",
       "      <td>0</td>\n",
       "      <td>39</td>\n",
       "      <td>State-gov</td>\n",
       "      <td>Bachelors</td>\n",
       "      <td>NotMarried</td>\n",
       "      <td>Adm-clerical</td>\n",
       "      <td>Not-in-family</td>\n",
       "      <td>White</td>\n",
       "      <td>Male</td>\n",
       "      <td>40</td>\n",
       "    </tr>\n",
       "    <tr>\n",
       "      <th>1</th>\n",
       "      <td>0</td>\n",
       "      <td>50</td>\n",
       "      <td>Self-emp-not-inc</td>\n",
       "      <td>Bachelors</td>\n",
       "      <td>Married</td>\n",
       "      <td>Exec-managerial</td>\n",
       "      <td>Husband</td>\n",
       "      <td>White</td>\n",
       "      <td>Male</td>\n",
       "      <td>13</td>\n",
       "    </tr>\n",
       "    <tr>\n",
       "      <th>2</th>\n",
       "      <td>0</td>\n",
       "      <td>38</td>\n",
       "      <td>Private</td>\n",
       "      <td>HS-grad</td>\n",
       "      <td>Separated</td>\n",
       "      <td>Handlers-cleaners</td>\n",
       "      <td>Not-in-family</td>\n",
       "      <td>White</td>\n",
       "      <td>Male</td>\n",
       "      <td>40</td>\n",
       "    </tr>\n",
       "    <tr>\n",
       "      <th>3</th>\n",
       "      <td>0</td>\n",
       "      <td>53</td>\n",
       "      <td>Private</td>\n",
       "      <td>11th</td>\n",
       "      <td>Married</td>\n",
       "      <td>Handlers-cleaners</td>\n",
       "      <td>Husband</td>\n",
       "      <td>Black</td>\n",
       "      <td>Male</td>\n",
       "      <td>40</td>\n",
       "    </tr>\n",
       "    <tr>\n",
       "      <th>4</th>\n",
       "      <td>0</td>\n",
       "      <td>28</td>\n",
       "      <td>Private</td>\n",
       "      <td>Bachelors</td>\n",
       "      <td>Married</td>\n",
       "      <td>Prof-specialty</td>\n",
       "      <td>Wife</td>\n",
       "      <td>Black</td>\n",
       "      <td>Female</td>\n",
       "      <td>40</td>\n",
       "    </tr>\n",
       "  </tbody>\n",
       "</table>\n",
       "</div>"
      ],
      "text/plain": [
       "   income  age         workclass  education marital-status         occupation  \\\n",
       "0       0   39         State-gov  Bachelors     NotMarried       Adm-clerical   \n",
       "1       0   50  Self-emp-not-inc  Bachelors        Married    Exec-managerial   \n",
       "2       0   38           Private    HS-grad      Separated  Handlers-cleaners   \n",
       "3       0   53           Private       11th        Married  Handlers-cleaners   \n",
       "4       0   28           Private  Bachelors        Married     Prof-specialty   \n",
       "\n",
       "    relationship   race     sex  hours-per-week  \n",
       "0  Not-in-family  White    Male              40  \n",
       "1        Husband  White    Male              13  \n",
       "2  Not-in-family  White    Male              40  \n",
       "3        Husband  Black    Male              40  \n",
       "4           Wife  Black  Female              40  "
      ]
     },
     "execution_count": 2,
     "metadata": {},
     "output_type": "execute_result"
    }
   ],
   "source": [
    "dataset = pd.read_csv('income.csv')\n",
    "dataset.head()"
   ]
  },
  {
   "cell_type": "markdown",
   "metadata": {},
   "source": [
    "(a) Describing dataset before preprocessing"
   ]
  },
  {
   "cell_type": "code",
   "execution_count": 5,
   "metadata": {},
   "outputs": [
    {
     "name": "stdout",
     "output_type": "stream",
     "text": [
      "<class 'pandas.core.frame.DataFrame'>\n",
      "RangeIndex: 26215 entries, 0 to 26214\n",
      "Data columns (total 10 columns):\n",
      " #   Column          Non-Null Count  Dtype \n",
      "---  ------          --------------  ----- \n",
      " 0   income          26215 non-null  int64 \n",
      " 1   age             26215 non-null  int64 \n",
      " 2   workclass       24819 non-null  object\n",
      " 3   education       26215 non-null  object\n",
      " 4   marital-status  26215 non-null  object\n",
      " 5   occupation      24814 non-null  object\n",
      " 6   relationship    26215 non-null  object\n",
      " 7   race            26215 non-null  object\n",
      " 8   sex             26215 non-null  object\n",
      " 9   hours-per-week  26215 non-null  int64 \n",
      "dtypes: int64(3), object(7)\n",
      "memory usage: 2.0+ MB\n"
     ]
    }
   ],
   "source": [
    "dataset.info()"
   ]
  },
  {
   "cell_type": "markdown",
   "metadata": {},
   "source": [
    "(b) Handling missing values & categorical values"
   ]
  },
  {
   "cell_type": "code",
   "execution_count": 6,
   "metadata": {},
   "outputs": [],
   "source": [
    "dataset = dataset.dropna()"
   ]
  },
  {
   "cell_type": "code",
   "execution_count": 12,
   "metadata": {},
   "outputs": [
    {
     "name": "stdout",
     "output_type": "stream",
     "text": [
      "workclass:  ['State-gov' 'Self-emp-not-inc' 'Private' 'Federal-gov' 'Local-gov'\n",
      " 'Self-emp-inc' 'Without-pay']\n",
      "education:  ['Bachelors' 'HS-grad' '11th' 'Masters' '9th' 'Some-college' 'Assoc-acdm'\n",
      " 'Assoc-voc' '7th-8th' 'Doctorate' 'Prof-school' '12th' '10th' '5th-6th'\n",
      " '1st-4th' 'Preschool']\n",
      "marital-status:  ['NotMarried' 'Married' 'Separated' 'Widowed']\n",
      "occupation:  ['Adm-clerical' 'Exec-managerial' 'Handlers-cleaners' 'Prof-specialty'\n",
      " 'Other-service' 'Sales' 'Craft-repair' 'Transport-moving'\n",
      " 'Farming-fishing' 'Machine-op-inspct' 'Tech-support' 'Protective-serv'\n",
      " 'Priv-house-serv' 'Armed-Forces']\n",
      "relationship:  ['Not-in-family' 'Husband' 'Wife' 'Own-child' 'Unmarried' 'Other-relative']\n",
      "race:  ['White' 'Black' 'Asian-Pac-Islander' 'Amer-Indian-Eskimo' 'Other']\n",
      "sex:  ['Male' 'Female']\n"
     ]
    }
   ],
   "source": [
    "print(\"workclass: \",dataset['workclass'].unique())\n",
    "print(\"education: \",dataset['education'].unique())\n",
    "print(\"marital-status: \",dataset['marital-status'].unique())\n",
    "print(\"occupation: \",dataset['occupation'].unique())\n",
    "print(\"relationship: \",dataset['relationship'].unique())\n",
    "print(\"race: \",dataset['race'].unique())\n",
    "print(\"sex: \",dataset['sex'].unique())"
   ]
  },
  {
   "cell_type": "code",
   "execution_count": null,
   "metadata": {},
   "outputs": [],
   "source": [
    "dataset['sex'] = dataset['sex'].replace({\n",
    "    'Male': 0, \n",
    "    'Female': 1\n",
    "    })\n",
    "dataset['race'] = dataset['race'].replace({\n",
    "    'White': 0,\n",
    "    'Black': 1,\n",
    "    'Asian-Pac-Islander': 2,\n",
    "    'Amer-Indian-Eskimo': 3,\n",
    "    'Other': 4\n",
    "    })\n",
    "dataset['relationship'] = dataset['relationship'].replace({\n",
    "    'Not-in-family': 0,\n",
    "    'Husband': 1,\n",
    "    'Wife': 2,\n",
    "    'Own-child': 3,\n",
    "    'Unmarried': 3,\n",
    "    'Other-relative': 4\n",
    "    })\n",
    "dataset['occupation'] = dataset['occupation'].replace({\n",
    "    'Adm-clerical': 0,\n",
    "    'Exec-managerial': 1,\n",
    "    'Handlers-cleaners': 2,\n",
    "    'Prof-specialty': 3,\n",
    "    'Other-service': 4,\n",
    "    'Sales': 5,\n",
    "    'Craft-repair': 6,\n",
    "    'Transport-moving': 7,\n",
    "    'Farming-fishing': 8,\n",
    "    'Machine-op-inspct': 9,\n",
    "    'Tech-support': 10,\n",
    "    'Protective-serv': 11,\n",
    "    'Priv-house-serv': 12,\n",
    "    'Armed-Forces': 13\n",
    "    })\n",
    "dataset['marital-status'] = dataset['marital-status'].replace({\n",
    "    'NotMarried': 0,\n",
    "    'Married': 1,\n",
    "    'Separated': 2,\n",
    "    'Widowed': 3\n",
    "})\n",
    "dataset['education'] = dataset['education'].replace({\n",
    "    'Bachelors': 0,\n",
    "    'HS-grad': 1,\n",
    "    '11th': 2,\n",
    "    'Masters': 3,\n",
    "    '9th': 4,\n",
    "    'Some-college': 5,\n",
    "    'Assoc-acdm': 6,\n",
    "    'Assoc-voc': 7,\n",
    "    '7th-8th': 8,\n",
    "    'Doctorate': 9,\n",
    "    'Prof-school': 10,\n",
    "    '12th': 11,\n",
    "    '10th': 12,\n",
    "    '5th-6th': 13,\n",
    "    '1st-4th': 14,\n",
    "    'Preschool': 15\n",
    "})"
   ]
  }
 ],
 "metadata": {
  "kernelspec": {
   "display_name": "Python 3",
   "language": "python",
   "name": "python3"
  },
  "language_info": {
   "codemirror_mode": {
    "name": "ipython",
    "version": 3
   },
   "file_extension": ".py",
   "mimetype": "text/x-python",
   "name": "python",
   "nbconvert_exporter": "python",
   "pygments_lexer": "ipython3",
   "version": "3.12.0"
  }
 },
 "nbformat": 4,
 "nbformat_minor": 2
}
